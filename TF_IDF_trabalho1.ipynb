{
 "cells": [
  {
   "cell_type": "code",
   "execution_count": null,
   "metadata": {},
   "outputs": [],
   "source": [
    "# Importa as bibliotecas necessáriass\n",
    "import nltk\n",
    "nltk.download('stopwords')\n",
    "nltk.download('punkt')\n",
    "from nltk.tokenize import sent_tokenize, word_tokenize\n",
    "from nltk.corpus import stopwords\n",
    "import string\n",
    "from nltk.stem import PorterStemmer"
   ]
  },
  {
   "cell_type": "code",
   "execution_count": null,
   "metadata": {},
   "outputs": [],
   "source": [
    "d = open(\"corpora.txt\").read().splitlines()\n",
    "len(d)\n",
    "# Cria uma lista com todos os documentos\n",
    "#d = [d1,d2,d3,d4,d5,d6,d7,d8,d9]\n"
   ]
  },
  {
   "cell_type": "code",
   "execution_count": null,
   "metadata": {},
   "outputs": [],
   "source": [
    "stopWords = set(stopwords.words('english'))\n",
    "punctuations = list(string.punctuation)\n",
    "\n",
    "#Antes tinhamos uma lista com todas palavras, mas elas se referiam a um unico documento\n",
    "#Agora criamos uma lista com as listas de palavras de cada documento\n",
    "corpusFiltered = []\n",
    "ps = PorterStemmer()\n",
    "stopWordsFilter = [\"and/or\",\"'s\", \"»\", \"â€\", \"ï\", \"“\"];\n",
    "for i in range(0,15):\n",
    "    data = d[i]\n",
    "    words = word_tokenize(data)\n",
    "    wordsFiltered = []\n",
    "    for w in words:\n",
    "        if w.lower() not in stopWords and w.lower() not in stopWordsFilter and w not in punctuations:\n",
    "            radical = ps.stem(w.lower())\n",
    "            #print(radical)\n",
    "            #print(w)\n",
    "            wordsFiltered.append(radical)    \n",
    "    #para cada documento, atualizo a lista do corpus \n",
    "    len(wordsFiltered)\n",
    "    corpusFiltered.append(wordsFiltered)\n",
    "print(corpusFiltered)\n"
   ]
  },
  {
   "cell_type": "code",
   "execution_count": null,
   "metadata": {},
   "outputs": [],
   "source": [
    "for i in range(0,15):\n",
    "    print(\"-----Document\",i+1,\"-----\")\n",
    "    print(corpusFiltered[i])\n",
    "    print(\"--------\")\n"
   ]
  },
  {
   "cell_type": "code",
   "execution_count": null,
   "metadata": {},
   "outputs": [],
   "source": [
    "AF = {} #frequencia absoluta\n",
    "TF = {} #frequencia ponderada\n",
    "DF = {} #document frequency\n",
    "IDF = {} #inverse document frequency\n",
    "TF_IDF = {} #tfidf\n",
    "\n",
    "terms = []\n",
    "dt = {} #relacao documento termos"
   ]
  },
  {
   "cell_type": "code",
   "execution_count": null,
   "metadata": {},
   "outputs": [],
   "source": [
    "#Atualizamos todos os termos, eliminando repetições\n",
    "#Atualizamos a relação documento termos\n",
    "terms = []\n",
    "for i in range(0,15):\n",
    "    terms = terms + corpusFiltered[i]    \n",
    "    dt[i] = corpusFiltered[i]\n",
    "terms = set(terms)\n",
    "terms = list(terms)\n",
    "terms.sort()\n",
    "print(terms)"
   ]
  },
  {
   "cell_type": "code",
   "execution_count": null,
   "metadata": {
    "scrolled": true
   },
   "outputs": [],
   "source": [
    "#Computa a frequencia absoluta dos termos]\n",
    "\n",
    "for i in dt: \n",
    "    for j in terms:\n",
    "        AF[j,i] = dt[i].count(j)"
   ]
  },
  {
   "cell_type": "code",
   "execution_count": null,
   "metadata": {},
   "outputs": [],
   "source": [
    "print(AF)"
   ]
  },
  {
   "cell_type": "code",
   "execution_count": null,
   "metadata": {},
   "outputs": [],
   "source": [
    "for i in terms:\n",
    "    DF[i]=0\n",
    "    for j in dt:\n",
    "        if i in str(dt[j]):\n",
    "            DF[i]=DF[i]+1\n",
    "            continue\n",
    "            \n",
    "            \n",
    "            "
   ]
  },
  {
   "cell_type": "code",
   "execution_count": null,
   "metadata": {},
   "outputs": [],
   "source": [
    "print(DF)"
   ]
  },
  {
   "cell_type": "code",
   "execution_count": null,
   "metadata": {},
   "outputs": [],
   "source": [
    "import math\n",
    "for i in dt:\n",
    "        for j in terms:\n",
    "            if AF[j,i]>0:\n",
    "                TF[j,i]=1 + math.log10(AF[j,i])\n",
    "                IDF[j]=math.log10((9/DF[j]))  \n",
    "            else:\n",
    "                TF[j,i]=0\n",
    "                IDF[j,i]=0\n",
    "             "
   ]
  },
  {
   "cell_type": "code",
   "execution_count": null,
   "metadata": {},
   "outputs": [],
   "source": [
    "print(TF)\n"
   ]
  },
  {
   "cell_type": "code",
   "execution_count": null,
   "metadata": {},
   "outputs": [],
   "source": [
    "print(IDF)"
   ]
  },
  {
   "cell_type": "code",
   "execution_count": null,
   "metadata": {},
   "outputs": [],
   "source": [
    "\n",
    "for i in dt:\n",
    "    for j in terms:\n",
    "        TF_IDF[j,i] = TF[j,i] * IDF[j]\n",
    "#colula soma para avaliar termos mais relevantes        \n",
    "for j in terms:\n",
    "    TF_IDF[j,i+1] = 0;\n",
    "    for i in dt:\n",
    "        TF_IDF[j,i+1] = TF[j,i] + TF_IDF[j,i+1]\n",
    "        \n",
    "            "
   ]
  },
  {
   "cell_type": "code",
   "execution_count": null,
   "metadata": {},
   "outputs": [],
   "source": []
  },
  {
   "cell_type": "code",
   "execution_count": null,
   "metadata": {},
   "outputs": [],
   "source": []
  },
  {
   "cell_type": "code",
   "execution_count": null,
   "metadata": {},
   "outputs": [],
   "source": []
  }
 ],
 "metadata": {
  "kernelspec": {
   "display_name": "Python 3",
   "language": "python",
   "name": "python3"
  },
  "language_info": {
   "codemirror_mode": {
    "name": "ipython",
    "version": 3
   },
   "file_extension": ".py",
   "mimetype": "text/x-python",
   "name": "python",
   "nbconvert_exporter": "python",
   "pygments_lexer": "ipython3",
   "version": "3.6.4"
  }
 },
 "nbformat": 4,
 "nbformat_minor": 2
}
